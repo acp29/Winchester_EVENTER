{
 "cells": [
  {
   "cell_type": "markdown",
   "id": "972727ef-5e46-4c67-80bd-8a82dc5cf460",
   "metadata": {},
   "source": [
    "Index\n",
    "============\n",
    "\n",
    "This Github repository contains analysis and data relating to Winchester et al. (2024) Reproducible supervised learning-assisted classification of spontaneous synaptic waveforms with Eventer. Front Neuroinform. Submitted.\n",
    "\n",
    "There are 2 notebooks relating to figures in the paper:\n",
    "\n",
    "* notebooks / Fig5.ipynb\n",
    "* notebooks / Fig7.ipynb"
   ]
  },
  {
   "cell_type": "code",
   "execution_count": null,
   "id": "7e277b13-6721-4a28-9e46-66f56d7a1b90",
   "metadata": {},
   "outputs": [],
   "source": []
  }
 ],
 "metadata": {
  "kernelspec": {
   "display_name": "Python 3 (ipykernel)",
   "language": "python",
   "name": "python3"
  },
  "language_info": {
   "codemirror_mode": {
    "name": "ipython",
    "version": 3
   },
   "file_extension": ".py",
   "mimetype": "text/x-python",
   "name": "python",
   "nbconvert_exporter": "python",
   "pygments_lexer": "ipython3",
   "version": "3.10.12"
  }
 },
 "nbformat": 4,
 "nbformat_minor": 5
}
