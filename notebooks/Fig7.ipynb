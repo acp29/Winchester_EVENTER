{
 "cells": [
  {
   "cell_type": "markdown",
   "metadata": {
    "tags": []
   },
   "source": [
    "Figure 7 data analysis\n",
    "============"
   ]
  },
  {
   "cell_type": "markdown",
   "metadata": {},
   "source": [
    "Get info about Octave and it's packages:"
   ]
  },
  {
   "cell_type": "code",
   "execution_count": null,
   "metadata": {},
   "outputs": [],
   "source": [
    "ver('Octave');\n",
    "pkg list;\n",
    "pkg describe -verbose statistics-resampling"
   ]
  },
  {
   "cell_type": "markdown",
   "metadata": {},
   "source": [
    "Load the data:"
   ]
  },
  {
   "cell_type": "code",
   "execution_count": 21,
   "metadata": {},
   "outputs": [],
   "source": [
    "load('../data/data.mat','-v7')\n",
    "format short g"
   ]
  },
  {
   "cell_type": "markdown",
   "metadata": {},
   "source": [
    "Define functions to compute Matthews Correlation Coefficient scores (off-diagonal elements only) for pairwise comparisons, within blocks of length `m`, between event times in cell indices `a` and `b` from `data.fig7.EventTimes`:"
   ]
  },
  {
   "cell_type": "code",
   "execution_count": 11,
   "metadata": {},
   "outputs": [],
   "source": [
    "% Define bespoke function to compute MCC scores between event times in cells with indices a and b in data.fig7.EventTimes\n",
    "function MCC = MCCscores (data, a, b)\n",
    "\n",
    "  % This reproduces the MCCs in Oli's figure\n",
    "  % Get data\n",
    "  x  = data.fig7.EventTimes{a};            % Get x (reference)\n",
    "  nx = numel (x);                          % Number of events detected in x\n",
    "  y  = data.fig7.EventTimes{b};            % Get y (test) \n",
    "  ny = numel (y);                          % Number of events detected in y\n",
    "\n",
    "  % Number of possible test detections in reference\n",
    "  N  = repmat (data.fig7.N, 1, 2);\n",
    "  N  = N(a);\n",
    "\n",
    "  % Find matching event times\n",
    "  tol = 0.00004;                  % Tolerance for identical event times (in seconds)\n",
    "  L   = ismembertol (y, x, tol);  % Vector of logical indices of matching event times\n",
    "\n",
    "  % Compute statistics\n",
    "  TP  = sum (L);                  % Number of reference events within tolerance of one or more detected events\n",
    "  FP  = ny - TP;                  % Number of test detections  - the number of true positives\n",
    "  FN  = nx - TP;                  % Number of reference events - the number of true positives\n",
    "  TN  = N - ny - FN;              % Number of possible test detections - number of detections - number of false negatives\n",
    "  MCC = (TP * TN - FP * FN) / ...\n",
    "         sqrt ((TP + FP) * (TP + FN) * (TN + FP) * (TN + FN));\n",
    "       \n",
    "end\n",
    "\n",
    "% Generate pairwise comparisons for every group of m number of students\n",
    "% Group 'a' is the reference group\n",
    "m = 5;\n",
    "q = logical (tril (ones (m, m), -1));\n",
    "i = uint32 (ones (m,1) * (1:m));\n",
    "j = uint32 ((1:m)' * ones (1, m));\n",
    "o = ones (m^2 - m, 1) * (0: 5: 15 - 1);\n",
    "idx = bsxfun(@plus, repmat ([i(q), j(q); j(q),i(q)],3, 1), o(:));\n",
    "a = double (cat (1, idx(:,1)));\n",
    "b = double (cat (1, idx(:,2)));\n",
    "\n",
    "% Create anonymous function to compute pairwise MCC scores given indices for the cells in data.fig7.EventTimes\n",
    "anon_MCCscores = @(a,b) MCCscores (data, a, b);\n",
    "pairwise_MCCscores = @(i) arrayfun (anon_MCCscores, i(a), i(b));"
   ]
  },
  {
   "cell_type": "markdown",
   "metadata": {},
   "source": [
    "Create table of MCC scores per person:"
   ]
  },
  {
   "cell_type": "code",
   "execution_count": 91,
   "metadata": {},
   "outputs": [
    {
     "name": "stdout",
     "output_type": "stream",
     "text": [
      "-------------------------------------------\n",
      "|       Manual       |  Machine Learning  |\n",
      "-------------------------------------------\n",
      "| Cell no. | MCC     | Cell no. | MCC     |\n",
      "-------------------------------------------\n",
      "| 1   2    | 0.63156 | 16   17  | 0.83247 |\n",
      "| 1   3    | 0.77488 | 16   18  | 0.94306 |\n",
      "| 1   4    | 0.79265 | 16   19  | 0.96147 |\n",
      "| 1   5    | 0.7656  | 16   20  | 0.93245 |\n",
      "| 2   3    | 0.60233 | 17   18  | 0.86947 |\n",
      "| 2   4    | 0.65675 | 17   19  | 0.82785 |\n",
      "| 2   5    | 0.60802 | 17   20  | 0.8057  |\n",
      "| 3   4    | 0.77263 | 18   19  | 0.90288 |\n",
      "| 3   5    | 0.732   | 18   20  | 0.8769  |\n",
      "| 4   5    | 0.78536 | 19   20  | 0.94833 |\n",
      "| 2   1    | 0.6315  | 17   16  | 0.83243 |\n",
      "| 3   1    | 0.77488 | 18   16  | 0.94306 |\n",
      "| 4   1    | 0.79262 | 19   16  | 0.96146 |\n",
      "| 5   1    | 0.76556 | 20   16  | 0.93243 |\n",
      "| 3   2    | 0.60241 | 18   17  | 0.8695  |\n",
      "| 4   2    | 0.65676 | 19   17  | 0.82786 |\n",
      "| 5   2    | 0.60802 | 20   17  | 0.8057  |\n",
      "| 4   3    | 0.77259 | 19   18  | 0.90286 |\n",
      "| 5   3    | 0.73194 | 20   18  | 0.87687 |\n",
      "| 5   4    | 0.78535 | 20   19  | 0.94832 |\n",
      "| 6   7    | 0.85994 | 21   22  | 0.97394 |\n",
      "| 6   8    | 0.82807 | 21   23  | 0.91461 |\n",
      "| 6   9    | 0.7446  | 21   24  | 0.98933 |\n",
      "| 6   10   | 0.82349 | 21   25  | 0.89656 |\n",
      "| 7   8    | 0.921   | 22   23  | 0.92942 |\n",
      "| 7   9    | 0.71772 | 22   24  | 0.98445 |\n",
      "| 7   10   | 0.78104 | 22   25  | 0.91148 |\n",
      "| 8   9    | 0.67981 | 23   24  | 0.92448 |\n",
      "| 8   10   | 0.76248 | 23   25  | 0.97299 |\n",
      "| 9   10   | 0.72009 | 24   25  | 0.90648 |\n",
      "| 7   6    | 0.85995 | 22   21  | 0.97395 |\n",
      "| 8   6    | 0.82806 | 23   21  | 0.91461 |\n",
      "| 9   6    | 0.74467 | 24   21  | 0.98934 |\n",
      "| 10   6   | 0.82352 | 25   21  | 0.89658 |\n",
      "| 8   7    | 0.92098 | 23   22  | 0.92941 |\n",
      "| 9   7    | 0.71778 | 24   22  | 0.98445 |\n",
      "| 10   7   | 0.78106 | 25   22  | 0.91149 |\n",
      "| 9   8    | 0.67992 | 24   23  | 0.92451 |\n",
      "| 10   8   | 0.76253 | 25   23  | 0.973   |\n",
      "| 10   9   | 0.72006 | 25   24  | 0.90646 |\n",
      "| 11   12  | 0.85912 | 26   27  | 0.89277 |\n",
      "| 11   13  | 0.83323 | 26   28  | 0.85979 |\n",
      "| 11   14  | 0.84861 | 26   29  | 0.95106 |\n",
      "| 11   15  | 0.81705 | 26   30  | 0.94048 |\n",
      "| 12   13  | 0.82756 | 27   28  | 0.80227 |\n",
      "| 12   14  | 0.85657 | 27   29  | 0.91609 |\n",
      "| 12   15  | 0.85275 | 27   30  | 0.91246 |\n",
      "| 13   14  | 0.81474 | 28   29  | 0.84026 |\n",
      "| 13   15  | 0.80559 | 28   30  | 0.84847 |\n",
      "| 14   15  | 0.82714 | 29   30  | 0.96442 |\n",
      "| 12   11  | 0.85909 | 27   26  | 0.89274 |\n",
      "| 13   11  | 0.83323 | 28   26  | 0.85979 |\n",
      "| 14   11  | 0.84861 | 29   26  | 0.95105 |\n",
      "| 15   11  | 0.81704 | 30   26  | 0.94047 |\n",
      "| 13   12  | 0.8276  | 28   27  | 0.80231 |\n",
      "| 14   12  | 0.8566  | 29   27  | 0.91611 |\n",
      "| 15   12  | 0.85277 | 30   27  | 0.91248 |\n",
      "| 14   13  | 0.81473 | 29   28  | 0.84026 |\n",
      "| 15   13  | 0.80558 | 30   28  | 0.84846 |\n",
      "| 15   14  | 0.82714 | 30   29  | 0.96442 |\n",
      "-------------------------------------------\n"
     ]
    }
   ],
   "source": [
    "% Compute pairwise MCC scores for manual (MAN) and machine learning model (MLM)\n",
    "i = (1:15)';\n",
    "j = (16:30)';\n",
    "MCC_MAN = pairwise_MCCscores(i);\n",
    "MCC_MLM = pairwise_MCCscores(j);\n",
    "\n",
    "# Create table of MCCs\n",
    "fprintf ('-------------------------------------------\\n')\n",
    "fprintf ('|       Manual       |  Machine Learning  |\\n')\n",
    "header = {'Cell no.', 'MCC', 'Cell no.', 'MCC'};\n",
    "tbl = table ([i(a), i(b)], MCC_MAN, [j(a), j(b)], MCC_MLM);\n",
    "tbl = setVariableNames (tbl, (1:4), header);\n",
    "prettyprint (tbl(:,:))\n"
   ]
  },
  {
   "cell_type": "markdown",
   "metadata": {},
   "source": [
    "Perform permutation test with the null hypothesis that the average MCC scores between subjects is the same for user classification as it is for classification using a common machine learning model"
   ]
  },
  {
   "cell_type": "code",
   "execution_count": null,
   "metadata": {},
   "outputs": [],
   "source": [
    "seed = 1;\n",
    "nreps = 500;\n",
    "[PVAL, STAT, FPR, PERMSTAT] = randtest2 (i, j, true, nreps, @(i, j) mean (pairwise_MCCscores(j)) - ...\n",
    "                                                                    mean (pairwise_MCCscores(i)), seed);\n",
    "fprintf ('Difference in mean pairwise MCC scores between manual and machine learning classification: %.3f\\n', STAT)\n",
    "fprintf ('Permutation test p-value (2-tailed): %.3f\\n', PVAL)\n",
    "fprintf ('False positive risk: %.3f\\n', FPR)\n",
    "hist(PERMSTAT, 50)"
   ]
  },
  {
   "cell_type": "code",
   "execution_count": null,
   "metadata": {},
   "outputs": [],
   "source": [
    "seed = 1;\n",
    "[PVAL, STAT, FPR, PERMSTAT] = randtest2 (i, j, true, nreps, @(i, j) mean (pairwise_MCCscores(j) - ...\n",
    "                                                                          pairwise_MCCscores(i)), seed);\n",
    "fprintf ('Difference in mean pairwise MCC scores between manual and machine learning classification: %.3f\\n', STAT)\n",
    "fprintf ('Permutation test p-value (2-tailed): %.3f\\n', PVAL)\n",
    "fprintf ('False positive risk: %.3f\\n', FPR)\n",
    "hist(PERMSTAT, 50)"
   ]
  },
  {
   "cell_type": "code",
   "execution_count": null,
   "metadata": {},
   "outputs": [],
   "source": []
  }
 ],
 "metadata": {
  "anaconda-cloud": {},
  "kernelspec": {
   "display_name": "Octave",
   "language": "octave",
   "name": "octave"
  },
  "language_info": {
   "file_extension": ".m",
   "help_links": [
    {
     "text": "GNU Octave",
     "url": "https://www.gnu.org/software/octave/support.html"
    },
    {
     "text": "Octave Kernel",
     "url": "https://github.com/Calysto/octave_kernel"
    },
    {
     "text": "MetaKernel Magics",
     "url": "https://metakernel.readthedocs.io/en/latest/source/README.html"
    }
   ],
   "mimetype": "text/x-octave",
   "name": "octave",
   "version": "8.3.0"
  }
 },
 "nbformat": 4,
 "nbformat_minor": 4
}
